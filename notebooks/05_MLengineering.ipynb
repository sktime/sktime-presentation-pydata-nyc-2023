{
 "cells": [
  {
   "attachments": {},
   "cell_type": "markdown",
   "metadata": {},
   "source": [
    "### Overview of this notebook\n",
    "\n",
    "* overview of `sktime` as a framework - estimators modules, library, data\n",
    "* overview of learning tasks in `sktime` - API perspective\n",
    "* searching the library for estimators, tag system\n",
    "* estimator level dependency management\n",
    "* creating your own estimator, to `sktime`, or for third party use (closed or open) - short primer"
   ]
  },
  {
   "cell_type": "code",
   "execution_count": null,
   "metadata": {},
   "outputs": [],
   "source": [
    "import warnings\n",
    "warnings.filterwarnings(\"ignore\")"
   ]
  },
  {
   "attachments": {},
   "cell_type": "markdown",
   "metadata": {},
   "source": [
    "# 5. `sktime` in a nutshell - engineering perspective\n",
    "\n",
    "**A) `sktime` is a modular framework for multiple learning tasks**\n",
    "\n",
    "Example: forecasting (predict future of ts), classification (predict label of ts)\n",
    "\n",
    "**B) estimators/algorithms are of a scientific type = which task do they solve?**\n",
    "\n",
    "Example: ARIMA is a forecaster; knn with time series distance is classifier\n",
    "\n",
    "**C) all estimators of a certain scitype have the same module interface**\n",
    "\n",
    "Example: all forecasters classes have `fit` / `predict` with same contract\n",
    "\n",
    "**D) `sktime` is a library which allows browsing of integrated estimators**\n",
    "\n",
    "Example: search for all forecasters that are natively multivariate\n",
    "\n",
    "**E) `sktime` is a mini-package manager for estimators and their dependencies**\n",
    "\n",
    "Example: `ARIMA` class requires `pmdarima`, but `sktime` itself does not\n",
    "\n",
    "**F) `sktime` is extensible, write your own 3rd party plugins (open or closed)**\n",
    "\n",
    "Example: forecaster in 3rd party codebase, plug & plays to `sktime` and test framework\n",
    "\n",
    "**G) `sktime` is highly composable - any compatible estimators of any type!**\n",
    "\n",
    "Example: pipeline 3rd party feature extractor and onboard detrender with forecaster"
   ]
  },
  {
   "attachments": {},
   "cell_type": "markdown",
   "metadata": {},
   "source": [
    "## 5.1 Showcase with code vignettes\n",
    "\n",
    "The above, with code. We revisit in more detail later."
   ]
  },
  {
   "attachments": {},
   "cell_type": "markdown",
   "metadata": {},
   "source": [
    "### **A) `sktime` is a modular framework for multiple learning tasks**\n",
    "\n",
    "Vignettes for forecasting and classification:\n",
    "(we'll go into data types etc later)"
   ]
  },
  {
   "cell_type": "code",
   "execution_count": null,
   "metadata": {},
   "outputs": [],
   "source": [
    "from sktime.datasets import load_airline\n",
    "from sktime.forecasting.naive import NaiveForecaster\n",
    "import numpy as np\n",
    "\n",
    "# step 1: data specification\n",
    "y = load_airline()\n",
    "# y is a pd.Series at monthly frequency\n",
    "\n",
    "# step 2: specifying forecasting horizon\n",
    "fh = np.arange(1, 37)\n",
    "# this specifies a prediction 3 years ahead\n",
    "\n",
    "# step 3: specifying the forecasting algorithm\n",
    "forecaster = NaiveForecaster(strategy=\"last\", sp=12)\n",
    "# forecaster is now a forecaster object of type NaiveForecaster\n",
    "\n",
    "# step 4: fitting the forecaster\n",
    "forecaster.fit(y, fh=fh)\n",
    "# forecaster changes state to \"fitted\"\n",
    "\n",
    "# step 5: querying predictions\n",
    "y_pred = forecaster.predict()\n",
    "# y_pred is the forecasted time series, a pd.Series"
   ]
  },
  {
   "cell_type": "code",
   "execution_count": null,
   "metadata": {},
   "outputs": [],
   "source": [
    "from sktime.datasets import load_osuleaf\n",
    "from sktime.classification.distance_based import KNeighborsTimeSeriesClassifier\n",
    "from sktime.dists_kernels.compose_tab_to_panel import AggrDist\n",
    "from sktime.dists_kernels import ScipyDist\n",
    "\n",
    "# step 1 - specify training data\n",
    "X_train, y_train = load_osuleaf(split=\"train\", return_type=\"numpy3D\")\n",
    "# X_train is 3D numpy array holding multiple instances of time series\n",
    "# y_train is 1D numpy array with training labels for these instances\n",
    "\n",
    "# step 2 - specify data to predict labels for\n",
    "X_new, _ = load_osuleaf(split=\"test\", return_type=\"numpy3D\")\n",
    "X_new = X_new[:2]\n",
    "# X_new is a 3D numpy array with the instances to label\n",
    "\n",
    "# step 3 - specify the classifier\n",
    "mean_eucl_dist = AggrDist(ScipyDist())\n",
    "clf = KNeighborsTimeSeriesClassifier(n_neighbors=3, distance=mean_eucl_dist)\n",
    "# clf is a classifier object of type KNeighborsTimeSeriesClassifier\n",
    "# it consists of other sktime objects, mean_eucl_dist is a distance object\n",
    "\n",
    "# step 4 - fitting the classifier\n",
    "clf.fit(X_train, y_train)\n",
    "# clf changes state to \"fitted\"\n",
    "\n",
    "# step 5 - predict labels on new data\n",
    "y_pred = clf.predict(X_new)\n",
    "# y_pred is the predicted labels, an 1D numpy array"
   ]
  },
  {
   "attachments": {},
   "cell_type": "markdown",
   "metadata": {},
   "source": [
    "### **B) estimators/algorithms are of a scientific type = which task do they solve?**\n",
    "\n",
    "`NaiveForecaster` is a forecaster; `KNeighborsTimeSeriesClassifier` is a classifier"
   ]
  },
  {
   "cell_type": "code",
   "execution_count": null,
   "metadata": {},
   "outputs": [],
   "source": [
    "from sktime.forecasting.naive import NaiveForecaster\n",
    "from sktime.registry import scitype\n",
    "\n",
    "scitype(NaiveForecaster)"
   ]
  },
  {
   "cell_type": "code",
   "execution_count": null,
   "metadata": {},
   "outputs": [],
   "source": [
    "from sktime.classification.distance_based import KNeighborsTimeSeriesClassifier\n",
    "from sktime.registry import scitype\n",
    "\n",
    "scitype(KNeighborsTimeSeriesClassifier)"
   ]
  },
  {
   "attachments": {},
   "cell_type": "markdown",
   "metadata": {},
   "source": [
    "**C) all estimators of a certain scitype have the same module interface**\n",
    "\n",
    "C1 - the `NaiveForecaster` can be switched out for any forecaster in the base vignette\n",
    "\n",
    "Only step 3 - specification changes!"
   ]
  },
  {
   "cell_type": "code",
   "execution_count": null,
   "metadata": {},
   "outputs": [],
   "source": [
    "from sktime.datasets import load_airline\n",
    "from sktime.forecasting.arima import ARIMA\n",
    "import numpy as np\n",
    "\n",
    "# step 1: data specification\n",
    "y = load_airline()\n",
    "\n",
    "# step 2: specifying forecasting horizon\n",
    "fh = np.arange(1, 37)\n",
    "\n",
    "# step 3: specifying the forecasting algorithm\n",
    "# forecaster = NaiveForecaster(strategy=\"last\", sp=12)\n",
    "forecaster = ARIMA()\n",
    "\n",
    "# step 4: fitting the forecaster\n",
    "forecaster.fit(y)\n",
    "\n",
    "# step 5: querying predictions\n",
    "y_pred = forecaster.predict(fh)"
   ]
  },
  {
   "attachments": {},
   "cell_type": "markdown",
   "metadata": {},
   "source": [
    "C2 - `fit` and `predict` are the same for both!\n",
    "\n",
    "`fit(self, y, X=None, fh=None)`"
   ]
  },
  {
   "cell_type": "code",
   "execution_count": null,
   "metadata": {},
   "outputs": [],
   "source": [
    "?ARIMA.fit"
   ]
  },
  {
   "cell_type": "code",
   "execution_count": null,
   "metadata": {},
   "outputs": [],
   "source": [
    "?NaiveForecaster.fit"
   ]
  },
  {
   "attachments": {},
   "cell_type": "markdown",
   "metadata": {},
   "source": [
    "for classifiers, signature is different: `fit(X, y)`\n",
    "\n",
    "but the same for all classifiers!"
   ]
  },
  {
   "cell_type": "code",
   "execution_count": null,
   "metadata": {},
   "outputs": [],
   "source": [
    "KNeighborsTimeSeriesClassifier.fit"
   ]
  },
  {
   "attachments": {},
   "cell_type": "markdown",
   "metadata": {},
   "source": [
    "### **D) `sktime` is a library which allows browsing of integrated estimators**\n",
    "\n",
    "Example: search for all forecasters that can make probabilistic predictions"
   ]
  },
  {
   "cell_type": "code",
   "execution_count": null,
   "metadata": {},
   "outputs": [],
   "source": [
    "from sktime.registry import all_estimators\n",
    "\n",
    "all_estimators(\"forecaster\", filter_tags={\"capability:pred_int\": True}, as_dataframe=True)"
   ]
  },
  {
   "attachments": {},
   "cell_type": "markdown",
   "metadata": {},
   "source": [
    "all objects in `sktime` are tagged with metadata:"
   ]
  },
  {
   "cell_type": "code",
   "execution_count": null,
   "metadata": {},
   "outputs": [],
   "source": [
    "ARIMA().get_tags()"
   ]
  },
  {
   "attachments": {},
   "cell_type": "markdown",
   "metadata": {},
   "source": [
    "list all tags that apply to forecasters:"
   ]
  },
  {
   "cell_type": "code",
   "execution_count": null,
   "metadata": {},
   "outputs": [],
   "source": [
    "from sktime.registry import all_tags\n",
    "\n",
    "all_tags(\"forecaster\", as_dataframe=True)"
   ]
  },
  {
   "attachments": {},
   "cell_type": "markdown",
   "metadata": {},
   "source": [
    "### **E) `sktime` is a mini-package manager for estimators and their dependencies**\n",
    "\n",
    "Example: `ARIMA` class requires `pmdarima`, but `sktime` itself does not"
   ]
  },
  {
   "cell_type": "code",
   "execution_count": null,
   "metadata": {},
   "outputs": [],
   "source": [
    "from sktime.forecasting.arima import ARIMA\n",
    "\n",
    "ARIMA.get_class_tag(\"python_dependencies\")\n",
    "# this requires the pmdarima package\n",
    "# the result is a PEP 440 compatible requirement string"
   ]
  },
  {
   "attachments": {},
   "cell_type": "markdown",
   "metadata": {},
   "source": [
    "by default, dependencies are checked at instantiation:"
   ]
  },
  {
   "cell_type": "code",
   "execution_count": null,
   "metadata": {},
   "outputs": [],
   "source": [
    "# from sktime.forecasting.fbprophet import Prophet\n",
    "\n",
    "# Prophet()\n",
    "\n",
    "# this would result in:"
   ]
  },
  {
   "attachments": {},
   "cell_type": "markdown",
   "metadata": {},
   "source": [
    "this would result in exception:\n",
    "\n",
    "```\n",
    "ModuleNotFoundError: Prophet requires package 'prophet' to be present in the python environment,\n",
    "but 'prophet' was not found. 'prophet' is a soft dependency and not included in the base\n",
    "sktime installation. Please run: `pip install prophet` to install the prophet package.\n",
    "To install all soft dependencies, run: `pip install sktime[all_extras]`\n",
    "```"
   ]
  },
  {
   "attachments": {},
   "cell_type": "markdown",
   "metadata": {},
   "source": [
    "### **F) `sktime` is extensible, write your own 3rd party plugins (open or closed)**\n",
    "\n",
    "Example: forecaster in 3rd party codebase, plug & plays to `sktime` and test framework"
   ]
  },
  {
   "attachments": {},
   "cell_type": "markdown",
   "metadata": {},
   "source": [
    "snippet from forecaster extension template (in `extension_templates` dir):\n",
    "```\n",
    "How to use this implementation template to implement a new estimator:\n",
    "- make a copy of the template in a suitable location, give it a descriptive name.\n",
    "- work through all the \"todo\" comments below\n",
    "- fill in code for mandatory methods, and optionally for optional methods\n",
    "- do not write to reserved variables: is_fitted, _is_fitted, _X, _y, cutoff, _fh,\n",
    "    _cutoff, _converter_store_y, forecasters_, _tags, _tags_dynamic, _is_vectorized\n",
    "- you can add more private methods, but do not override BaseEstimator's private methods\n",
    "    an easy way to be safe is to prefix your methods with \"_custom\"\n",
    "- change docstrings for functions and the file\n",
    "- ensure interface compatibility by sktime.utils.estimator_checks.check_estimator\n",
    "- once complete: use as a local library, or contribute to sktime via PR\n",
    "- more details:\n",
    "  https://www.sktime.net/en/stable/developer_guide/add_estimators.html\n",
    "```"
   ]
  },
  {
   "attachments": {},
   "cell_type": "markdown",
   "metadata": {},
   "source": [
    "![](./img/implementing_estimators.png)"
   ]
  },
  {
   "cell_type": "code",
   "execution_count": null,
   "metadata": {},
   "outputs": [],
   "source": [
    "from sktime.transformations.series.boxcox import BoxCoxTransformer\n",
    "from sktime.utils.estimator_checks import check_estimator\n",
    "\n",
    "res = check_estimator(BoxCoxTransformer)"
   ]
  },
  {
   "cell_type": "code",
   "execution_count": null,
   "metadata": {},
   "outputs": [],
   "source": [
    "res"
   ]
  },
  {
   "attachments": {},
   "cell_type": "markdown",
   "metadata": {},
   "source": [
    "**G) `sktime` is highly composable - any compatible estimators of any type!**\n",
    "\n",
    "Example: pipeline 3rd party feature extractor and onboard detrender with forecaster"
   ]
  },
  {
   "cell_type": "code",
   "execution_count": null,
   "metadata": {},
   "outputs": [],
   "source": [
    "from sklearn.linear_model import LinearRegression\n",
    "\n",
    "from sktime.forecasting.arima import ARIMA\n",
    "from sktime.forecasting.trend import TrendForecaster\n",
    "from sktime.transformations.series.boxcox import BoxCoxTransformer\n",
    "from sktime.transformations.series.detrend import Detrender\n",
    "\n",
    "trend_reg = LinearRegression()\n",
    "detrender = Detrender(TrendForecaster(trend_reg))\n",
    "\n",
    "pipe = BoxCoxTransformer() * detrender * ARIMA()\n",
    "\n",
    "# we first box-cox-transform - from statsmodels\n",
    "# then we detrend - sktime native\n",
    "# detrending is done using a regression forecaster - sktime native\n",
    "# the regression in the trend forecaster is linear regressor - from sklearn\n",
    "# then we apply ARIMA - from pmdarima\n",
    "\n",
    "# when forecasting, the detrending and box cox transform are inverted, in this order\n",
    "\n",
    "# this is how it looks like - highly modular!\n",
    "# any step could be switched out and can be tuned with grid search etc\n",
    "pipe"
   ]
  },
  {
   "cell_type": "code",
   "execution_count": null,
   "metadata": {},
   "outputs": [],
   "source": [
    "# tunable parameters\n",
    "pipe.get_params()"
   ]
  },
  {
   "attachments": {},
   "cell_type": "markdown",
   "metadata": {},
   "source": [
    "## 5.2 Learning tasks in sktime"
   ]
  },
  {
   "attachments": {},
   "cell_type": "markdown",
   "metadata": {},
   "source": [
    "Step 1 - what is your learning task?\n",
    "\n",
    "sktime estimator type support:\n",
    "\n",
    "| Task | Status | Links |\n",
    "|---|---|---|\n",
    "| **Forecasting** | stable | [Tutorial](https://www.sktime.net/en/latest/examples/01_forecasting.html) · [API Reference](https://www.sktime.net/en/latest/api_reference/forecasting.html) · [Extension Template](https://github.com/sktime/sktime/blob/main/extension_templates/forecasting.py)  |\n",
    "| **Time Series Classification** | stable | [Tutorial](https://github.com/sktime/sktime/blob/main/examples/02_classification.ipynb) · [API Reference](https://www.sktime.net/en/latest/api_reference/classification.html) · [Extension Template](https://github.com/sktime/sktime/blob/main/extension_templates/classification.py) |\n",
    "| **Time Series Regression** | stable | [API Reference](https://www.sktime.net/en/latest/api_reference/regression.html) |\n",
    "| **Transformations** | stable | [Tutorial](https://github.com/sktime/sktime/blob/main/examples/03_transformers.ipynb) · [API Reference](https://www.sktime.net/en/latest/api_reference/transformations.html) · [Extension Template](https://github.com/sktime/sktime/blob/main/extension_templates/transformer.py)  |\n",
    "| **Parameter fitting** | maturing | [API Reference](https://www.sktime.net/en/latest/api_reference/param_est.html) · [Extension Template](https://github.com/sktime/sktime/blob/main/extension_templates/transformer.py)  |\n",
    "| **Time Series Clustering** | maturing | [API Reference](https://www.sktime.net/en/latest/api_reference/clustering.html) ·  [Extension Template](https://github.com/sktime/sktime/blob/main/extension_templates/clustering.py) |\n",
    "| **Time Series Distances/Kernels** | maturing | [Tutorial](https://github.com/sktime/sktime/blob/main/examples/03_transformers.ipynb) · [API Reference](https://www.sktime.net/en/latest/api_reference/dists_kernels.html) · [Extension Template](https://github.com/sktime/sktime/blob/main/extension_templates/dist_kern_panel.py) |\n",
    "| **Annotation** | experimental | [Extension Template](https://github.com/sktime/sktime/blob/main/extension_templates/annotation.py) |\n",
    "| **Distributions and simulation** | experimental |  |"
   ]
  },
  {
   "attachments": {},
   "cell_type": "markdown",
   "metadata": {},
   "source": [
    "rough overview of time series related learning tasks"
   ]
  },
  {
   "attachments": {},
   "cell_type": "markdown",
   "metadata": {},
   "source": [
    "![](./img/ts-tasks.jpg)"
   ]
  },
  {
   "attachments": {},
   "cell_type": "markdown",
   "metadata": {},
   "source": [
    "first some basic terminology on time series (required for the above)"
   ]
  },
  {
   "attachments": {},
   "cell_type": "markdown",
   "metadata": {},
   "source": [
    "### 5.2.1 learning task guide - primer"
   ]
  },
  {
   "attachments": {},
   "cell_type": "markdown",
   "metadata": {},
   "source": [
    "questions to ask:\n",
    "\n",
    "1. what is my data? one time series, panel of time series?\n",
    "2. what do I want to do with it: predict? transform? annotate?\n",
    "3. what data comes out of the model when it is applied?\n",
    "4. how do I train? on what data? (or do I not train?)"
   ]
  },
  {
   "attachments": {},
   "cell_type": "markdown",
   "metadata": {},
   "source": [
    "starting with explaining common tasks:\n",
    "\n",
    "* forecasting\n",
    "* simple panel data tasks - classification, regression, clustering\n",
    "* panel forecasting"
   ]
  },
  {
   "attachments": {},
   "cell_type": "markdown",
   "metadata": {},
   "source": [
    "#### **forecasting** (vanilla)"
   ]
  },
  {
   "attachments": {},
   "cell_type": "markdown",
   "metadata": {},
   "source": [
    "![](./img/tasks-forecasting.png)"
   ]
  },
  {
   "attachments": {},
   "cell_type": "markdown",
   "metadata": {},
   "source": [
    "e.g., **given this**:"
   ]
  },
  {
   "cell_type": "code",
   "execution_count": null,
   "metadata": {},
   "outputs": [],
   "source": [
    "from sktime.datasets import load_macroeconomic\n",
    "\n",
    "y = load_macroeconomic()\n",
    "y"
   ]
  },
  {
   "attachments": {},
   "cell_type": "markdown",
   "metadata": {},
   "source": [
    "**algorithm, please fill in rows for 2009Q4, 2010Q1, ...**"
   ]
  },
  {
   "attachments": {},
   "cell_type": "markdown",
   "metadata": {},
   "source": [
    "if want only some columns (variables) for 2009Q4:\n",
    "\n",
    "* columns to forecast are called \"endogenous\"\n",
    "* other columns, if used by algorithm, are called \"exogenous\"\n",
    "* some exogenous columns may be known for future (e.g., interest rates), some may be unknown"
   ]
  },
  {
   "attachments": {},
   "cell_type": "markdown",
   "metadata": {},
   "source": [
    "#### **time series classification** and regression"
   ]
  },
  {
   "attachments": {},
   "cell_type": "markdown",
   "metadata": {},
   "source": [
    "![](./img/tasks-tsc.png)"
   ]
  },
  {
   "attachments": {},
   "cell_type": "markdown",
   "metadata": {},
   "source": [
    "e.g., **given this**:"
   ]
  },
  {
   "cell_type": "code",
   "execution_count": null,
   "metadata": {},
   "outputs": [],
   "source": [
    "from sktime.datasets import load_basic_motions\n",
    "\n",
    "X, _ = load_basic_motions(split=\"TEST\", return_type=\"pd-multiindex\")\n",
    "X"
   ]
  },
  {
   "attachments": {},
   "cell_type": "markdown",
   "metadata": {},
   "source": [
    "**algorithm, please assign a label to instance 0, a label to instance 1, ..., to instance 39**\n",
    "\n",
    "label is a category (e.g., unifoliate leaf, bifoliate leaf, ...) -> time series classification\n",
    "\n",
    "label is a number (e.g., 1, 3.14, 42) -> time series regression"
   ]
  },
  {
   "attachments": {},
   "cell_type": "markdown",
   "metadata": {},
   "source": [
    "**you can train on some instances with known label**:"
   ]
  },
  {
   "cell_type": "code",
   "execution_count": null,
   "metadata": {},
   "outputs": [],
   "source": [
    "from sktime.datasets import load_basic_motions\n",
    "\n",
    "X_train, y_train = load_basic_motions(split=\"TRAIN\", return_type=\"pd-multiindex\")\n",
    "X_train, y_train"
   ]
  },
  {
   "attachments": {},
   "cell_type": "markdown",
   "metadata": {},
   "source": [
    "#### **time series clustering**"
   ]
  },
  {
   "attachments": {},
   "cell_type": "markdown",
   "metadata": {},
   "source": [
    "data as above, but there is no labelling or training data\n",
    "\n",
    "algorithm should do one or more of of:\n",
    "\n",
    "* put the series into a small number of buckets (prototype 1, prototype 2, ...)\n",
    "* compute a similarity hierarchy between the instances\n",
    "* produce a parsimonious clustering model summary (algorithm dependent)"
   ]
  },
  {
   "attachments": {},
   "cell_type": "markdown",
   "metadata": {},
   "source": [
    "#### **panel forecasting**"
   ]
  },
  {
   "attachments": {},
   "cell_type": "markdown",
   "metadata": {},
   "source": [
    "= for a panel of time series, forecast all (or only some) of the instances"
   ]
  },
  {
   "attachments": {},
   "cell_type": "markdown",
   "metadata": {},
   "source": [
    "e.g., **given this**:"
   ]
  },
  {
   "cell_type": "code",
   "execution_count": null,
   "metadata": {},
   "outputs": [],
   "source": [
    "from sktime.utils._testing.hierarchical import _make_hierarchical\n",
    "\n",
    "y = _make_hierarchical(hierarchy_levels=(4,), min_timepoints=4, max_timepoints=5)\n",
    "y"
   ]
  },
  {
   "attachments": {},
   "cell_type": "markdown",
   "metadata": {},
   "source": [
    "**algorithm, please forecast 2000-01-06, 2000-01-07 for instances h0_0, h0_1, ...**"
   ]
  },
  {
   "attachments": {},
   "cell_type": "markdown",
   "metadata": {},
   "source": [
    "optional: full training instances are available that are not being forecast (sometimes called\"global\" forecasting)"
   ]
  },
  {
   "attachments": {},
   "cell_type": "markdown",
   "metadata": {},
   "source": [
    "IMPORTANT: not the same as time series regression! Not the same as tabular regression!\n",
    "\n",
    "Forecasts are numbers, but they are indexed by time - regression label is not time indexed."
   ]
  },
  {
   "attachments": {},
   "cell_type": "markdown",
   "metadata": {},
   "source": [
    "#### further and rarer learning tasks"
   ]
  },
  {
   "attachments": {},
   "cell_type": "markdown",
   "metadata": {},
   "source": [
    "for disambiguation - experimental or no support in `sktime` (contribute!)\n",
    "\n",
    "* prediction is also time series\n",
    "    * concurrent on same time axis: supervised annotation, nowcasting\n",
    "    * future, same time axis: global or supervised forecasting\n",
    "    * unrelated axis: functional regression\n",
    "* prediction is summary or transform of time series\n",
    "    * directional forecasting\n",
    "    * annotation forecast\n",
    "* detecting anomalies, changepoints\n",
    "    * temporal anomaly detection, changepoint detection\n",
    "    * latent space modelling, unsupervised annotation\n",
    "\n",
    "most above tasks can be:\n",
    "\n",
    "* panel/hierarchical or not\n",
    "* supervised or not, training data varying across index\n",
    "* batch or on-line\n",
    "* combined with output modality: point prediction, probabilistic, event\n",
    "\n",
    "`sktime` roadmap to cover \"task space\" in order of commonality\n",
    "\n",
    "contributions appreciated!"
   ]
  },
  {
   "attachments": {},
   "cell_type": "markdown",
   "metadata": {},
   "source": [
    "### 5.2.1 Time Series Forecasting"
   ]
  },
  {
   "attachments": {},
   "cell_type": "markdown",
   "metadata": {},
   "source": [
    "Basic deployment vignette for forecasting:\n",
    "\n",
    "1. load/setup training data, `y` as `pd.DataFrame`\n",
    "2. specify the forecasting horizon, i.e., what to forecast\n",
    "3. specify the forecaster using `sklearn`-like syntax\n",
    "4. fit forecaster to training data, `fit(y, fh)`\n",
    "5. compute forecasts, `predict()`"
   ]
  },
  {
   "cell_type": "code",
   "execution_count": null,
   "metadata": {},
   "outputs": [],
   "source": [
    "# step 1 - prepare macroeconomic data\n",
    "from sktime.datasets import load_macroeconomic\n",
    "\n",
    "y = load_macroeconomic().iloc[:-1]  # we leave out the last row for later"
   ]
  },
  {
   "cell_type": "code",
   "execution_count": null,
   "metadata": {},
   "outputs": [],
   "source": [
    "y"
   ]
  },
  {
   "cell_type": "code",
   "execution_count": null,
   "metadata": {},
   "outputs": [],
   "source": [
    "# step 2 - specify the forecasting horizon\n",
    "fh = [1, 2, 3, 4]  # four quarters = 1 full year ahead"
   ]
  },
  {
   "cell_type": "code",
   "execution_count": null,
   "metadata": {},
   "outputs": [],
   "source": [
    "# step 3 - specify the forecasting algorithm\n",
    "from sktime.forecasting.naive import NaiveForecaster\n",
    "\n",
    "# this predicts the last value seen\n",
    "forecaster = NaiveForecaster(strategy=\"last\")"
   ]
  },
  {
   "attachments": {},
   "cell_type": "markdown",
   "metadata": {},
   "source": [
    "we could specify any `sktime` forecaster here - the rest remains the same!"
   ]
  },
  {
   "cell_type": "code",
   "execution_count": null,
   "metadata": {},
   "outputs": [],
   "source": [
    "# step 4 - fit the forecaster to the historical data\n",
    "forecaster.fit(y, fh=fh)"
   ]
  },
  {
   "cell_type": "code",
   "execution_count": null,
   "metadata": {},
   "outputs": [],
   "source": [
    "# the forecaster is now fitted\n",
    "forecaster.is_fitted"
   ]
  },
  {
   "cell_type": "code",
   "execution_count": null,
   "metadata": {},
   "outputs": [],
   "source": [
    "# and we can inspect fitted parameters if we like\n",
    "forecaster.get_fitted_params()"
   ]
  },
  {
   "cell_type": "code",
   "execution_count": null,
   "metadata": {},
   "outputs": [],
   "source": [
    "# step 5 - compute forecasts\n",
    "y_pred = forecaster.predict()"
   ]
  },
  {
   "cell_type": "code",
   "execution_count": null,
   "metadata": {},
   "outputs": [],
   "source": [
    "y_pred"
   ]
  },
  {
   "attachments": {},
   "cell_type": "markdown",
   "metadata": {},
   "source": [
    "all together in one cell:"
   ]
  },
  {
   "cell_type": "code",
   "execution_count": null,
   "metadata": {},
   "outputs": [],
   "source": [
    "from sktime.datasets import load_macroeconomic\n",
    "\n",
    "from sktime.forecasting.naive import NaiveForecaster\n",
    "\n",
    "# step 1 - prepare macroeconomic data\n",
    "y = load_macroeconomic()\n",
    "\n",
    "# step 2 - specify the forecasting horizon\n",
    "fh = [1, 2, 3, 4]  # four quarters = 1 full year ahead\n",
    "\n",
    "# step 3 - specify the forecasting algorithm\n",
    "forecaster = NaiveForecaster(strategy=\"last\")\n",
    "\n",
    "# step 4 - fit the forecaster to the historical data\n",
    "forecaster.fit(y, fh=fh)\n",
    "\n",
    "# step 5 - compute forecasts\n",
    "y_pred = forecaster.predict()"
   ]
  },
  {
   "attachments": {},
   "cell_type": "markdown",
   "metadata": {},
   "source": [
    "sktime allows online/stream mode with forecaster update:\n",
    "\n",
    "suppose tine now passes and we get new data in 2009Q3"
   ]
  },
  {
   "cell_type": "code",
   "execution_count": null,
   "metadata": {},
   "outputs": [],
   "source": [
    "y_new = load_macroeconomic().iloc[-1:]  # the row we left out, let's pretend it's new"
   ]
  },
  {
   "cell_type": "code",
   "execution_count": null,
   "metadata": {},
   "outputs": [],
   "source": [
    "y_new"
   ]
  },
  {
   "attachments": {},
   "cell_type": "markdown",
   "metadata": {},
   "source": [
    "we can update the forecaster with it:"
   ]
  },
  {
   "cell_type": "code",
   "execution_count": null,
   "metadata": {},
   "outputs": [],
   "source": [
    "forecaster.update(y_new)"
   ]
  },
  {
   "attachments": {},
   "cell_type": "markdown",
   "metadata": {},
   "source": [
    "and we can get new forecasts, again for one year ahead (the forecaster remembers the `fh`):"
   ]
  },
  {
   "cell_type": "code",
   "execution_count": null,
   "metadata": {},
   "outputs": [],
   "source": [
    "forecaster.predict()"
   ]
  },
  {
   "attachments": {},
   "cell_type": "markdown",
   "metadata": {},
   "source": [
    "### 5.2.2 Panel forecasting\n",
    "\n",
    "panel forecasting does not have a separate estimator type. All forecasters can do this.\n",
    "\n",
    "Passing panel data is enough for this:"
   ]
  },
  {
   "cell_type": "code",
   "execution_count": null,
   "metadata": {},
   "outputs": [],
   "source": [
    "from sktime.forecasting.naive import NaiveForecaster\n",
    "from sktime.utils._testing.hierarchical import _make_hierarchical\n",
    "\n",
    "# step 1 - prepare some panel data\n",
    "y = _make_hierarchical(hierarchy_levels=(4,), min_timepoints=4, max_timepoints=4)\n",
    "\n",
    "# step 2 - specify the forecasting horizon\n",
    "fh = [1, 2, 3, 4]  # four quarters = 1 full year ahead\n",
    "\n",
    "# step 3 - specify the forecasting algorithm\n",
    "forecaster = NaiveForecaster(strategy=\"last\")\n",
    "\n",
    "# step 4 - fit the forecaster to the historical data\n",
    "forecaster.fit(y, fh=fh)\n",
    "\n",
    "# step 5 - compute forecasts\n",
    "y_pred = forecaster.predict()"
   ]
  },
  {
   "cell_type": "code",
   "execution_count": null,
   "metadata": {},
   "outputs": [],
   "source": [
    "y.head()"
   ]
  },
  {
   "cell_type": "code",
   "execution_count": null,
   "metadata": {},
   "outputs": [],
   "source": [
    "y_pred.head()"
   ]
  },
  {
   "attachments": {},
   "cell_type": "markdown",
   "metadata": {},
   "source": [
    "### 5.2.3 Time Series Classification"
   ]
  },
  {
   "attachments": {},
   "cell_type": "markdown",
   "metadata": {},
   "source": [
    "Basic deployment vignette for TSC:\n",
    "\n",
    "1. load/setup training data, `X` in a `Panel` format, `y` as 1D `np.ndarray`\n",
    "2. load/setup new data for prediction (can be done after 2 too)\n",
    "3. specify the classifier using `sklearn`-like syntax\n",
    "4. fit classifier to training data, `fit(X, y)`\n",
    "5. predict labels on new data, `predict(X_new)`"
   ]
  },
  {
   "cell_type": "code",
   "execution_count": null,
   "metadata": {},
   "outputs": [],
   "source": [
    "# steps 1, 2 - prepare osuleaf dataset (train and new)\n",
    "from sktime.datasets import load_osuleaf\n",
    "\n",
    "X_train, y_train = load_osuleaf(split=\"train\", return_type=\"numpy3D\")\n",
    "X_new, _ = load_osuleaf(split=\"test\", return_type=\"numpy3D\")\n",
    "X_new = X_new[:2]  # smaller dataset for faster notebook runtime"
   ]
  },
  {
   "cell_type": "code",
   "execution_count": null,
   "metadata": {},
   "outputs": [],
   "source": [
    "# this is in numpy3D format, but could also be pd-multiindex or other\n",
    "X_train.shape"
   ]
  },
  {
   "cell_type": "code",
   "execution_count": null,
   "metadata": {},
   "outputs": [],
   "source": [
    "# y is a 1D np.ndarray of labels - same length as number of instances in X_train\n",
    "y_train.shape"
   ]
  },
  {
   "cell_type": "code",
   "execution_count": null,
   "metadata": {},
   "outputs": [],
   "source": [
    "# step 3 - specify the classifier\n",
    "from sktime.classification.distance_based import KNeighborsTimeSeriesClassifier\n",
    "\n",
    "# example 1 - 3-NN with simple dynamic time warping distance (requires numba)\n",
    "clf = KNeighborsTimeSeriesClassifier(n_neighbors=3)\n",
    "\n",
    "# example 2:\n",
    "# 3-nearest neighbour classifier with mean (over time points) pairwise Euclidean distance\n",
    "# (requires scipy)\n",
    "from sktime.classification.distance_based import KNeighborsTimeSeriesClassifier\n",
    "from sktime.dists_kernels.compose_tab_to_panel import AggrDist\n",
    "from sktime.dists_kernels import ScipyDist\n",
    "\n",
    "mean_eucl_dist = AggrDist(ScipyDist())\n",
    "clf = KNeighborsTimeSeriesClassifier(n_neighbors=3, distance=mean_eucl_dist)"
   ]
  },
  {
   "attachments": {},
   "cell_type": "markdown",
   "metadata": {},
   "source": [
    "we could specify any `sktime` classifier here - the rest remains the same!"
   ]
  },
  {
   "cell_type": "code",
   "execution_count": null,
   "metadata": {},
   "outputs": [],
   "source": [
    "# all classifiers is scikit-learn / scikit-base compatible!\n",
    "# nested parameter interface via get_params, set_params\n",
    "clf.get_params()"
   ]
  },
  {
   "cell_type": "code",
   "execution_count": null,
   "metadata": {},
   "outputs": [],
   "source": [
    "# step 4 - fit/train the classifier\n",
    "clf.fit(X_train, y_train)"
   ]
  },
  {
   "cell_type": "code",
   "execution_count": null,
   "metadata": {},
   "outputs": [],
   "source": [
    "# the classifier is now fitted\n",
    "clf.is_fitted"
   ]
  },
  {
   "cell_type": "code",
   "execution_count": null,
   "metadata": {},
   "outputs": [],
   "source": [
    "# and we can inspect fitted parameters if we like\n",
    "clf.get_fitted_params()"
   ]
  },
  {
   "cell_type": "code",
   "execution_count": null,
   "metadata": {},
   "outputs": [],
   "source": [
    "# step 5 - predict labels on new data\n",
    "y_pred = clf.predict(X_new)"
   ]
  },
  {
   "cell_type": "code",
   "execution_count": null,
   "metadata": {},
   "outputs": [],
   "source": [
    "# y_pred is an 1D np.ndarray, similar to sklearn classification output\n",
    "y_pred"
   ]
  },
  {
   "attachments": {},
   "cell_type": "markdown",
   "metadata": {},
   "source": [
    "all together in one cell:"
   ]
  },
  {
   "cell_type": "code",
   "execution_count": null,
   "metadata": {},
   "outputs": [],
   "source": [
    "# steps 1, 2 - prepare osuleaf dataset (train and new)\n",
    "from sktime.datasets import load_osuleaf\n",
    "\n",
    "X_train, y_train = load_osuleaf(split=\"train\", return_type=\"numpy3D\")\n",
    "X_new, _ = load_osuleaf(split=\"test\", return_type=\"numpy3D\")\n",
    "X_new = X_new[:2]  # smaller dataset for faster notebook runtime\n",
    "\n",
    "# step 3 - specify the classifier\n",
    "from sktime.classification.distance_based import KNeighborsTimeSeriesClassifier\n",
    "from sktime.dists_kernels.compose_tab_to_panel import AggrDist\n",
    "from sktime.dists_kernels import ScipyDist\n",
    "\n",
    "mean_eucl_dist = AggrDist(ScipyDist())\n",
    "clf = KNeighborsTimeSeriesClassifier(n_neighbors=3, distance=mean_eucl_dist)\n",
    "\n",
    "# step 4 - fit/train the classifier\n",
    "clf.fit(X_train, y_train)\n",
    "\n",
    "# step 5 - predict labels on new data\n",
    "y_pred = clf.predict(X_new)"
   ]
  },
  {
   "attachments": {},
   "cell_type": "markdown",
   "metadata": {},
   "source": [
    "evaluation same as in sklearn - use `accuracy` etc"
   ]
  },
  {
   "attachments": {},
   "cell_type": "markdown",
   "metadata": {},
   "source": [
    "### 5.2.4 Time Series Regression"
   ]
  },
  {
   "attachments": {},
   "cell_type": "markdown",
   "metadata": {},
   "source": [
    "TSR vignettes are exactly the same as TSC, except that:\n",
    "\n",
    "* `y` in `fit` input and `predict` output should be float 1D `np.ndarray`, not categorical\n",
    "* other algorithms are commonly used and/or performant"
   ]
  },
  {
   "cell_type": "code",
   "execution_count": null,
   "metadata": {},
   "outputs": [],
   "source": [
    "# steps 1, 2 - prepare dataset (train and new)\n",
    "from sktime.datasets import load_covid_3month\n",
    "\n",
    "X_train, y_train = load_covid_3month(split=\"train\")\n",
    "y_train = y_train.astype(\"float\")\n",
    "X_new, _ = load_covid_3month(split=\"test\")\n",
    "X_new = X_new.loc[:2]  # smaller dataset for faster notebook runtime\n",
    "\n",
    "# step 3 - specify the regressor\n",
    "from sktime.regression.distance_based import KNeighborsTimeSeriesRegressor\n",
    "\n",
    "clf = KNeighborsTimeSeriesRegressor(n_neighbors=3, distance=mean_eucl_dist)\n",
    "\n",
    "# step 4 - fit/train the regressor\n",
    "clf.fit(X_train, y_train)\n",
    "\n",
    "# step 5 - predict labels on new data\n",
    "y_pred = clf.predict(X_new)"
   ]
  },
  {
   "cell_type": "code",
   "execution_count": null,
   "metadata": {},
   "outputs": [],
   "source": [
    "y_pred  # not too interesting but float"
   ]
  },
  {
   "attachments": {},
   "cell_type": "markdown",
   "metadata": {},
   "source": [
    "### 5.2.5 Time Series Clustering"
   ]
  },
  {
   "attachments": {},
   "cell_type": "markdown",
   "metadata": {},
   "source": [
    "TS clustering is similar - 1st step is also `fit`, but unsupervised\n",
    "\n",
    "i.e., no labels `y`, and next step is inspecting clusters"
   ]
  },
  {
   "cell_type": "code",
   "execution_count": null,
   "metadata": {},
   "outputs": [],
   "source": [
    "from sktime.clustering.dbscan import TimeSeriesDBSCAN\n",
    "\n",
    "# step 1 - prepare dataset (train and new)\n",
    "X, _ = load_osuleaf(split=\"train\", return_type=\"numpy3D\")\n",
    "X = X[:10]\n",
    "\n",
    "# step 2 - specify the clusterer\n",
    "from sktime.classification.distance_based import KNeighborsTimeSeriesClassifier\n",
    "from sktime.dists_kernels.compose_tab_to_panel import AggrDist\n",
    "from sktime.dists_kernels import ScipyDist\n",
    "\n",
    "mean_eucl_dist = AggrDist(ScipyDist())\n",
    "clst = TimeSeriesDBSCAN(distance=mean_eucl_dist)\n",
    "\n",
    "# step 3 - fit the clusterer to the data\n",
    "clst.fit(X)\n",
    "\n",
    "# step 4 - inspect the clustering\n",
    "clst.get_fitted_params()"
   ]
  },
  {
   "attachments": {},
   "cell_type": "markdown",
   "metadata": {},
   "source": [
    "## 5.3 Searching for estimators, estimator tags"
   ]
  },
  {
   "attachments": {},
   "cell_type": "markdown",
   "metadata": {},
   "source": [
    "Estimators in `sktime` are tagged.\n",
    "\n",
    "User facing tags indicate things the estimator can or cannot do, these usually\n",
    "start with \"capability\" (but not all, for historical reasons).\n",
    "\n",
    "Examples:\n",
    "\n",
    "forecasters\n",
    "\n",
    "* `\"capability:pred_int\"` - can make probabilistic predictions (`predict_interval` etc)\n",
    "* `\"ignores-exogeneous-X\"` - can make use of exogeneous data or not\n",
    "* `\"handles-missing-data\"` - dealing with missing values\n",
    "\n",
    "classifiers\n",
    "\n",
    "* `\"capability:missing_values\"` - dealing with missing values\n",
    "* `\"capability:multivariate\"` - daeling with multivariate input\n",
    "* `\"capability:unequal_length\"` - dealing with time series panels where the individual time series have unequal length and/or unequal index"
   ]
  },
  {
   "attachments": {},
   "cell_type": "markdown",
   "metadata": {},
   "source": [
    "all tags for an estimator scitype (e.g., classifier, regressor) can be inspected by `sktime.registry.all_tags`:"
   ]
  },
  {
   "cell_type": "code",
   "execution_count": null,
   "metadata": {},
   "outputs": [],
   "source": [
    "from sktime.registry import all_tags\n",
    "\n",
    "all_tags(\"classifier\", as_dataframe=True)"
   ]
  },
  {
   "attachments": {},
   "cell_type": "markdown",
   "metadata": {},
   "source": [
    "valid estimator types are listed in the `all_tags` docstring, or `sktime.registry.BASE_CLASS_REGISTER`"
   ]
  },
  {
   "cell_type": "code",
   "execution_count": null,
   "metadata": {},
   "outputs": [],
   "source": [
    "from sktime.registry import BASE_CLASS_REGISTER\n",
    "\n",
    "# get only fist table column, the list of types\n",
    "list(zip(*BASE_CLASS_REGISTER))[0]"
   ]
  },
  {
   "attachments": {},
   "cell_type": "markdown",
   "metadata": {},
   "source": [
    "to find all estimators of a certain type, use `sktime.registry.all_estimators`"
   ]
  },
  {
   "cell_type": "code",
   "execution_count": null,
   "metadata": {},
   "outputs": [],
   "source": [
    "# list all forecasters in sktime\n",
    "from sktime.registry import all_estimators\n",
    "\n",
    "all_estimators(\"forecaster\", as_dataframe=True)"
   ]
  },
  {
   "attachments": {},
   "cell_type": "markdown",
   "metadata": {},
   "source": [
    "for listing all estimators of a certain type with a certain capability,\n",
    "use the `filter_tags` argument of `all_estimators`:"
   ]
  },
  {
   "cell_type": "code",
   "execution_count": null,
   "metadata": {},
   "outputs": [],
   "source": [
    "# list all forecasters in sktime\n",
    "# that can make probabilistic forecasts, e.g., prediction interval forecasts\n",
    "from sktime.registry import all_estimators\n",
    "\n",
    "all_estimators(\"forecaster\", as_dataframe=True, filter_tags={\"capability:pred_int\": True})"
   ]
  },
  {
   "attachments": {},
   "cell_type": "markdown",
   "metadata": {},
   "source": [
    "## 5.4 Custom estimators - extension guide"
   ]
  },
  {
   "attachments": {},
   "cell_type": "markdown",
   "metadata": {},
   "source": [
    "![](./img/implementing_estimators.png)"
   ]
  },
  {
   "attachments": {},
   "cell_type": "markdown",
   "metadata": {},
   "source": [
    "`sktime` is meant to be easily extensible, for direct contribution to `sktime` as well as for local/private extension with custom methods.\n",
    "\n",
    "To extend `sktime` with a new local or contributed estimator, a good workflow to follow is:\n",
    "\n",
    "0. find the right extension template for the type of estimator you want to add - e.g., classifier, regressor, clusterer, etc. The extension templates are located in the [`extension_templates`](https://github.com/sktime/sktime/blob/main/extension_templates) directory\n",
    "1. read through the extension template - this is a `python` file with `todo` blocks that mark the places in which changes need to be added.\n",
    "2. optionally, if you are planning any major surgeries to the interface: look at the base class - note that \"ordinary\" extension (e.g., new algorithm) should be easily doable without this.\n",
    "3. copy the extension template to a local folder in your own repository (local/private extension), or to a suitable location in your clone of the `sktime` or affiliated repository (if contributed extension), inside `sktime.[name_of_task]`; rename the file and update the file docstring appropriately.\n",
    "4. address the \"todo\" parts. Usually, this means: changing the name of the class, setting the tag values, specifying hyper-parameters, filling in `__init__`, `_fit`, `_predict` and/or other methods (for details see the extension template). You can add private methods as long as they do not override the default public interface. For more details, see the extension template.\n",
    "5. to test your estimator manually: import your estimator and run it in the basic vignettes above.\n",
    "6. to test your estimator automatically: call `sktime.tests.test_all_estimators.check_estimator` on your estimator. You can call this on a class or object instance. Ensure you have specified test parameters in the `get_test_params` method, according to the extension template.\n",
    "\n",
    "In case of direct contribution to `sktime` or one of its affiliated packages, additionally:\n",
    "* add yourself as an author to the code, and to the `CODEOWNERS` for the new estimator file(s).\n",
    "* create a pull request that contains only the new estimators (and their inheritance tree, if it's not just one class), as well as the automated tests as described above.\n",
    "* in the pull request, describe the estimator and optimally provide a publication or other technical reference for the strategy it implements.\n",
    "* before making the pull request, ensure that you have all necessary permissions to contribute the code to a permissive license (BSD-3) open source project."
   ]
  },
  {
   "attachments": {},
   "cell_type": "markdown",
   "metadata": {},
   "source": [
    "---\n",
    "\n",
    "### Credits: notebook 5 - sktime engineering perspective\n",
    "\n",
    "notebook creation: fkiraly\n",
    "\n",
    "General credit to `sklearn` and `sktime` contributors"
   ]
  }
 ],
 "metadata": {
  "kernelspec": {
   "display_name": "sktime-dl",
   "language": "python",
   "name": "python3"
  },
  "language_info": {
   "codemirror_mode": {
    "name": "ipython",
    "version": 3
   },
   "file_extension": ".py",
   "mimetype": "text/x-python",
   "name": "python",
   "nbconvert_exporter": "python",
   "pygments_lexer": "ipython3",
   "version": "3.10.11"
  },
  "orig_nbformat": 4
 },
 "nbformat": 4,
 "nbformat_minor": 2
}
